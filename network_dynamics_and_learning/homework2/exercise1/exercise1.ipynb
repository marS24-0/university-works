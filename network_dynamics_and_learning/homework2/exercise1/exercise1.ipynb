{
 "cells": [
  {
   "cell_type": "markdown",
   "id": "04eac1f5",
   "metadata": {},
   "source": [
    "# Exercise 1"
   ]
  },
  {
   "cell_type": "code",
   "execution_count": 1,
   "id": "4c0edd02",
   "metadata": {},
   "outputs": [],
   "source": [
    "import networkx as nx\n",
    "from copy import deepcopy\n",
    "import random\n",
    "from pprint import pprint\n",
    "import numpy as np\n",
    "import os\n",
    "import matplotlib.pyplot as plt\n",
    "%matplotlib inline"
   ]
  },
  {
   "cell_type": "code",
   "execution_count": 2,
   "id": "88221824",
   "metadata": {},
   "outputs": [],
   "source": [
    "try:\n",
    "\tos.mkdir('results')\n",
    "except:\n",
    "\tpass\n",
    "try:\n",
    "\tos.mkdir('fig')\n",
    "except:\n",
    "\tpass"
   ]
  },
  {
   "cell_type": "code",
   "execution_count": 3,
   "id": "417d21db",
   "metadata": {},
   "outputs": [],
   "source": [
    "E = {\n",
    "\t'o':{\n",
    "\t\t'a':2/5,\n",
    "\t\t'b':1/5\n",
    "\t},\n",
    "\t'a':{\n",
    "\t\t'b':3/4,\n",
    "\t\t'c':1/4\n",
    "\t},\n",
    "\t'b':{\n",
    "\t\t'o':1/2,\n",
    "\t\t'c':1/2\n",
    "\t},\n",
    "\t'c':{\n",
    "\t\t'b':1/3,\n",
    "\t\t'd':2/3\n",
    "\t},\n",
    "\t'd':{\n",
    "\t\t'a':1/3,\n",
    "\t\t'c':1/3\n",
    "\t}\n",
    "}"
   ]
  },
  {
   "cell_type": "code",
   "execution_count": 4,
   "id": "f335baf2",
   "metadata": {},
   "outputs": [],
   "source": [
    "DG = nx.DiGraph()\n",
    "edge_list = [(u,v,w) for u,e in E.items() for v,w in e.items()]\n",
    "DG.add_weighted_edges_from(edge_list)"
   ]
  },
  {
   "cell_type": "code",
   "execution_count": 5,
   "id": "ba0f6d56",
   "metadata": {},
   "outputs": [],
   "source": [
    "W = nx.adjacency_matrix(DG).toarray()\n",
    "degrees = np.sum(W,axis=1)\n",
    "D = np.diag(degrees)\n",
    "P = np.linalg.inv(D) @ W\n",
    "indices = dict()\n",
    "for i in range(len(DG.nodes)):\n",
    "    indices[list(DG.nodes)[i]] = i"
   ]
  },
  {
   "cell_type": "code",
   "execution_count": 6,
   "id": "bad4caf4",
   "metadata": {},
   "outputs": [
    {
     "data": {
      "image/png": "[encoded data removed]",
      "text/plain": [
       "<Figure size 720x480 with 1 Axes>"
      ]
     },
     "metadata": {},
     "output_type": "display_data"
    }
   ],
   "source": [
    "pos = {\n",
    "    'o':[0,-1],\n",
    "    'a':[2,0],\n",
    "    'b':[2,-2],\n",
    "    'd':[4,0],\n",
    "\t'c':[4,-2]\n",
    "}\n",
    "plt.figure(dpi=120)\n",
    "# draw_labels(DG)\n",
    "nx.draw(DG, pos, with_labels=True) #, connectionstyle=\"arc3,rad=0.2\")\n",
    "plt.savefig('fig/graph1.png')"
   ]
  },
  {
   "cell_type": "code",
   "execution_count": 7,
   "id": "d7aaa0e5",
   "metadata": {},
   "outputs": [],
   "source": [
    "# function that simulates a move and returns time taken and destination\n",
    "def move(G, v):\n",
    "\tw = degrees[indices[v]]\n",
    "\tt = random.expovariate(w) # time to wait before moving from node v\n",
    "\tx = random.random()\n",
    "\t# *w # w is for normalization, in this way x can be used as in Hint 2\n",
    "\tc = 0 # used to compute cumulative distribution\n",
    "\tfor u,e in G[v].items():\n",
    "\t\tc += e['weight']/w\n",
    "\t\tif x <= c: # lower bound found\n",
    "\t\t\treturn t, u\n",
    "\treturn t, u"
   ]
  },
  {
   "cell_type": "markdown",
   "id": "920ae058",
   "metadata": {},
   "source": [
    "Compute, by simulation, $\\mathbf{E}_a[T_a^+]$"
   ]
  },
  {
   "cell_type": "code",
   "execution_count": 8,
   "id": "fa21906c",
   "metadata": {},
   "outputs": [],
   "source": [
    "# Compute, by simulation, E_a[T_a^+]\n",
    "def return_time(G, o, d, n_tests=int(1e4)):\n",
    "\ttt = 0\n",
    "\tfor _ in range(n_tests):\n",
    "\t\tu = o\n",
    "\t\twhile True:\n",
    "\t\t\tt, u = move(G, u)\n",
    "\t\t\ttt += t\n",
    "\t\t\tif u == d:\n",
    "\t\t\t\tbreak\n",
    "\treturn tt/n_tests\n"
   ]
  },
  {
   "cell_type": "code",
   "execution_count": 9,
   "id": "dbe6b716",
   "metadata": {},
   "outputs": [
    {
     "name": "stdout",
     "output_type": "stream",
     "text": [
      "6.74\n"
     ]
    }
   ],
   "source": [
    "estimation = f\"{return_time(DG,'a','a',n_tests=int(1e4)):.2f}\"\n",
    "print(estimation)\n",
    "with open('results/rt.txt', 'w') as outf:\n",
    "\toutf.write(estimation)"
   ]
  },
  {
   "cell_type": "code",
   "execution_count": 10,
   "id": "bae229ad",
   "metadata": {},
   "outputs": [],
   "source": [
    "def dominant_eigenvector(P):\n",
    "\tl,v = np.linalg.eig(P)\n",
    "\tfor i in range(len(l)):\n",
    "\t\tif np.isclose(l[i], 1):\n",
    "\t\t\tv = v[:,i].real\n",
    "\t\t\tv = v/np.linalg.norm(v,ord=1)\n",
    "\t\t\tif v.sum() < 0:\n",
    "\t\t\t\treturn -v\n",
    "\t\t\treturn v"
   ]
  },
  {
   "cell_type": "markdown",
   "id": "8ce69f87",
   "metadata": {},
   "source": [
    "Computing $\\overline{\\pi}$"
   ]
  },
  {
   "cell_type": "code",
   "execution_count": 11,
   "id": "fb5bda64",
   "metadata": {},
   "outputs": [],
   "source": [
    "ws = max(degrees)\n",
    "P_ = W + np.eye(len(DG.nodes)) - D\n",
    "pi_ = dominant_eigenvector(np.array(P_).T)"
   ]
  },
  {
   "cell_type": "markdown",
   "id": "9234b577",
   "metadata": {},
   "source": [
    "Theoretical value of $\\mathbf{E}_a[T_a^+]$"
   ]
  },
  {
   "cell_type": "code",
   "execution_count": 12,
   "id": "2f65889e",
   "metadata": {},
   "outputs": [
    {
     "name": "stdout",
     "output_type": "stream",
     "text": [
      "6.75\n"
     ]
    }
   ],
   "source": [
    "a = indices['a']\n",
    "eata = 1/(degrees[a]*abs(pi_[a]))\n",
    "print(f'{eata:.2f}')"
   ]
  },
  {
   "cell_type": "markdown",
   "id": "3c1b001b",
   "metadata": {},
   "source": [
    "Computing, by simulation, $\\mathbf{E}_o[T_d]$"
   ]
  },
  {
   "cell_type": "code",
   "execution_count": 13,
   "id": "7ff64f9c",
   "metadata": {},
   "outputs": [
    {
     "name": "stdout",
     "output_type": "stream",
     "text": [
      "8.82\n"
     ]
    }
   ],
   "source": [
    "# Computing, by simulation, E_o[T_d]\n",
    "estimation = f\"{return_time(DG,'o','d'):.2f}\"\n",
    "print(estimation)\n",
    "with open('results/ht.txt', 'w') as outf:\n",
    "\toutf.write(estimation)"
   ]
  },
  {
   "cell_type": "markdown",
   "id": "aa876965",
   "metadata": {},
   "source": [
    "### Theoretical computation of $\\mathbf{E}_o[T_d]$\n",
    "$\\mathbf{E}_i[T_i] = 0$ \\\n",
    "$\\mathbf{E}_i[T_d] = \\dfrac{1}{w_i} + \\sum_{j} P_{i,j} \\mathbf{E}_j[T_d] \\impliedby i \\neq d$ \\\n",
    "$P := D^{-1} \\Lambda$\n",
    "$P_d : P_{d_{i,j}} = \\begin{cases}\n",
    "\tP_{i,j} &\\impliedby i \\neq d \\\\\n",
    "\t0 &\\impliedby i = d\n",
    "\\end{cases}$ \\\n",
    "$w\\_inv_d = \\begin{cases}\n",
    "\t\\dfrac{1}{w_i} &\\impliedby i \\neq d \\\\\n",
    "\t0 &\\impliedby i = d\n",
    "\\end{cases}$\n",
    "$\\mathbf{E}[T_d] = w\\_inv_d + P_d \\mathbf{E}[T_d] \\implies (P_d - I) \\mathbf{E}[T_d] = w\\_inv_d $"
   ]
  },
  {
   "cell_type": "code",
   "execution_count": 14,
   "id": "9347fdba",
   "metadata": {},
   "outputs": [],
   "source": [
    "def eotd(o, d):\n",
    "\to = indices[o]\n",
    "\td = indices[d]\n",
    "\tP_d = [[y/(wi) for y in x] for x,wi in zip(W,degrees)]\n",
    "\tw_inv_d = [1/wi for wi in degrees]\n",
    "\tP_d[d] = [0]*len(DG.nodes)\n",
    "\tw_inv_d[d] = 0\n",
    "\tfor i in range(len(DG.nodes)):\n",
    "\t\tP_d[i][i] -= 1\n",
    "\tP_d = -np.array(P_d)\n",
    "\tw_inv_d = np.array(w_inv_d)\n",
    "\te = np.linalg.solve(P_d, w_inv_d)\n",
    "\treturn e"
   ]
  },
  {
   "cell_type": "code",
   "execution_count": 15,
   "id": "331d6be3",
   "metadata": {},
   "outputs": [
    {
     "name": "stdout",
     "output_type": "stream",
     "text": [
      "8.79\n"
     ]
    }
   ],
   "source": [
    "e = eotd('o','d')\n",
    "print(f\"{e[indices['o']]:.2f}\")"
   ]
  },
  {
   "cell_type": "markdown",
   "id": "d207372e",
   "metadata": {},
   "source": [
    "## Second part"
   ]
  },
  {
   "cell_type": "code",
   "execution_count": 16,
   "id": "b2e1c5dc",
   "metadata": {},
   "outputs": [],
   "source": [
    "# French-DeGroot simulation\n",
    "def fdg(P, x0, err_r=1e-3, n_iter=int(1e4)):\n",
    "\tfor i in range(n_iter):\n",
    "\t\tx = P @ x0\n",
    "\t\tif np.linalg.norm(x-x0) < err_r * np.linalg.norm(x):\n",
    "\t\t\treturn x\n",
    "\t\tx0 = x\n",
    "\tprint('convergence not reached in', n_iter, 'iterations')\n",
    "\treturn x"
   ]
  },
  {
   "cell_type": "code",
   "execution_count": 17,
   "id": "69605851",
   "metadata": {},
   "outputs": [],
   "source": [
    "def aprint(a, ret=False):\n",
    "\ts = \"[%s]\"%(\", \".join([f'{x:.2f}' for x in a]))\n",
    "\tprint(s)\n",
    "\tif ret:\n",
    "\t\treturn s"
   ]
  },
  {
   "cell_type": "code",
   "execution_count": 18,
   "id": "cee1d9ac",
   "metadata": {},
   "outputs": [
    {
     "name": "stdout",
     "output_type": "stream",
     "text": [
      "[0.38, 0.43, 0.29, 0.40, 0.64]\n",
      "[0.42, 0.42, 0.42, 0.42, 0.42]\n"
     ]
    }
   ],
   "source": [
    "P = np.array([[y/wi for y in x] for x,wi in zip(W,degrees)])\n",
    "x0 = np.random.rand(len(DG.nodes))\n",
    "with open('results/x0.txt','w') as outf:\n",
    "\toutf.write(aprint(x0, ret=True))\n",
    "b = fdg(P, x0)\n",
    "aprint(b)\n",
    "with open('results/consensus.txt','w') as outf:\n",
    "\toutf.write(f'{np.array(b).mean():.2f}')"
   ]
  },
  {
   "cell_type": "markdown",
   "id": "92b5c9d0",
   "metadata": {},
   "source": [
    "The dynamics converge because the condensation graph has only one sink and it is aperiodic in the original graph"
   ]
  },
  {
   "cell_type": "code",
   "execution_count": 19,
   "id": "17f700a1",
   "metadata": {},
   "outputs": [
    {
     "name": "stdout",
     "output_type": "stream",
     "text": [
      "1\n",
      "True\n"
     ]
    }
   ],
   "source": [
    "print(nx.strongly_connected.number_strongly_connected_components(DG))\n",
    "print(nx.is_aperiodic(DG))"
   ]
  },
  {
   "cell_type": "markdown",
   "id": "c28e3157",
   "metadata": {},
   "source": [
    "### Compute, by simulation, variance of consensus"
   ]
  },
  {
   "cell_type": "code",
   "execution_count": 20,
   "id": "060af58b",
   "metadata": {},
   "outputs": [],
   "source": [
    "def consensus_variance(P, mu, sigma, n_iter=int(1e3)):\n",
    "\tres = []\n",
    "\tfor _ in range(n_iter):\n",
    "\t\tres.append(fdg(P,np.random.normal(mu, sigma, len(P))).mean())\n",
    "\treturn np.var(res)"
   ]
  },
  {
   "cell_type": "code",
   "execution_count": 21,
   "id": "140b3497",
   "metadata": {},
   "outputs": [
    {
     "name": "stdout",
     "output_type": "stream",
     "text": [
      "0.018\n"
     ]
    }
   ],
   "source": [
    "mu = 0.8\n",
    "sigma = 0.3\n",
    "\n",
    "estimation = f'{consensus_variance(P, mu, sigma):.3f}'\n",
    "print(estimation)\n",
    "with open('results/consensus_variance.txt', 'w') as outf:\n",
    "\toutf.write(estimation)"
   ]
  },
  {
   "cell_type": "markdown",
   "id": "d23b55b7",
   "metadata": {},
   "source": [
    "### Theoretical computation of variance of consensus"
   ]
  },
  {
   "cell_type": "code",
   "execution_count": 22,
   "id": "f2aae5c4",
   "metadata": {},
   "outputs": [
    {
     "name": "stdout",
     "output_type": "stream",
     "text": [
      "0.019\n"
     ]
    }
   ],
   "source": [
    "pi = dominant_eigenvector(P.T)\n",
    "v = np.sum(np.square(pi)*(sigma**2))\n",
    "print(f'{v:.3f}')"
   ]
  },
  {
   "cell_type": "code",
   "execution_count": 23,
   "id": "8fa9b9d1",
   "metadata": {},
   "outputs": [],
   "source": [
    "def remove_edges(G, edges):\n",
    "\tG = G.copy()\n",
    "\tfor e in edges:\n",
    "\t\tG.remove_edge(*e)\n",
    "\t\tif G.out_degree[e[0]] == 0:\n",
    "\t\t\t# if there aren't any edges exiting from e[0], add a self loop\n",
    "\t\t\tG.add_weighted_edges_from([(e[0],e[0],1)])\n",
    "\tv = len(G.nodes)\n",
    "\tW = np.zeros((v,v))\n",
    "\t# compute matrix W\n",
    "\tfor u,e in G.adj.items():\n",
    "\t\tfor v,w in e.items():\n",
    "\t\t\tW[indices[u]][indices[v]] = w['weight']\n",
    "\t# compute matrix P\n",
    "\tP = W.copy()\n",
    "\tfor i in range(P.shape[0]):\n",
    "\t\tP[i,:] /= W[i,:].sum()\n",
    "\treturn G, W, P\n"
   ]
  },
  {
   "cell_type": "code",
   "execution_count": 24,
   "id": "330a1f77",
   "metadata": {},
   "outputs": [],
   "source": [
    "DGG, WG, PG = remove_edges(DG, [('d','a'),('d','c')])"
   ]
  },
  {
   "cell_type": "code",
   "execution_count": 25,
   "id": "be0556bd",
   "metadata": {},
   "outputs": [
    {
     "data": {
      "image/png": "[encoded data removed]",
      "text/plain": [
       "<Figure size 720x480 with 1 Axes>"
      ]
     },
     "metadata": {},
     "output_type": "display_data"
    },
    {
     "data": {
      "image/png": "[encoded data removed]",
      "text/plain": [
       "<Figure size 720x480 with 1 Axes>"
      ]
     },
     "metadata": {},
     "output_type": "display_data"
    }
   ],
   "source": [
    "plt.figure(dpi=120)\n",
    "nx.draw(DGG, pos, with_labels=True)\n",
    "plt.savefig('fig/graph2.png')\n",
    "plt.figure(dpi=120)\n",
    "CDGG = nx.algorithms.components.condensation(DGG)\n",
    "nx.draw(CDGG, with_labels=True)"
   ]
  },
  {
   "cell_type": "markdown",
   "id": "f384f679",
   "metadata": {},
   "source": [
    "Removing the outgoing edges from $d$, the graph is not strongly connected anymore. \\\n",
    "Now the asymptotic behaviour of the dynamics is determined only by the initial state of the nodes in the sinks of the condensation graph, because they are not influenced by the rest of the graph. Moreover, the sinks contain the support of the invariant distribution, which determines the consensus value. \\\n",
    "As in this case there is only one attracting component and it is aperiodic, a consensus will be reached, and its value will be the initial opinion of $d$."
   ]
  },
  {
   "cell_type": "code",
   "execution_count": 26,
   "id": "a956fd87",
   "metadata": {},
   "outputs": [],
   "source": [
    "def sink_aperiodicity(G):\n",
    "\tsinks = list(nx.algorithms.components.attracting_components(G))\n",
    "\tprint('number of sinks:', len(sinks))\n",
    "\tprint('is aperiodic:', all(nx.is_aperiodic(G.subgraph(t)) for t in sinks))"
   ]
  },
  {
   "cell_type": "code",
   "execution_count": 27,
   "id": "e54cb61b",
   "metadata": {},
   "outputs": [
    {
     "name": "stdout",
     "output_type": "stream",
     "text": [
      "number of sinks: 1\n",
      "is aperiodic: True\n"
     ]
    }
   ],
   "source": [
    "sink_aperiodicity(DGG)"
   ]
  },
  {
   "cell_type": "code",
   "execution_count": 28,
   "id": "8daa0bf1",
   "metadata": {},
   "outputs": [
    {
     "name": "stdout",
     "output_type": "stream",
     "text": [
      "0.0896\n",
      "[0. 0. 0. 0. 1.]\n"
     ]
    }
   ],
   "source": [
    "mu = 0.8\n",
    "sigma = 0.3\n",
    "print(f'{consensus_variance(PG, mu, sigma):.4f}')\n",
    "print(dominant_eigenvector(PG.T))"
   ]
  },
  {
   "cell_type": "markdown",
   "id": "7ca74e51",
   "metadata": {},
   "source": [
    "As $d$ is the only node affecting the asymptotic dynamics, the variance of the consensus equals the variance of the opinion of $d$."
   ]
  },
  {
   "cell_type": "code",
   "execution_count": 29,
   "id": "63e1b705",
   "metadata": {},
   "outputs": [],
   "source": [
    "DGH, WH, PH = remove_edges(DG, [('c','b'), ('d','a')])"
   ]
  },
  {
   "cell_type": "code",
   "execution_count": 30,
   "id": "77ba9dd8",
   "metadata": {},
   "outputs": [
    {
     "data": {
      "image/png": "[encoded data removed]",
      "text/plain": [
       "<Figure size 720x480 with 1 Axes>"
      ]
     },
     "metadata": {},
     "output_type": "display_data"
    },
    {
     "data": {
      "image/png": "[encoded data removed]",
      "text/plain": [
       "<Figure size 720x480 with 1 Axes>"
      ]
     },
     "metadata": {},
     "output_type": "display_data"
    }
   ],
   "source": [
    "plt.figure(dpi=120)\n",
    "nx.draw(DGH, pos, with_labels=True)\n",
    "plt.savefig('fig/graph3.png')\n",
    "plt.figure(dpi=120)\n",
    "nx.draw(nx.condensation(DGH), with_labels=True)"
   ]
  },
  {
   "cell_type": "markdown",
   "id": "714932d9",
   "metadata": {},
   "source": [
    "This case is similar to the previous one, but in this case we have two nodes ($c$ and $d$) in the sink of the condensation graph (instead of only $d$). \\\n",
    "Now the attracting component is not aperiodic, so a consensus will (generally) not be reached.\\\n",
    "A consensus will be reached only in the cases where $x_c(0) = x_d(0)$"
   ]
  },
  {
   "cell_type": "code",
   "execution_count": 31,
   "id": "4425439d",
   "metadata": {},
   "outputs": [
    {
     "name": "stdout",
     "output_type": "stream",
     "text": [
      "number of sinks: 1\n",
      "is aperiodic: False\n"
     ]
    }
   ],
   "source": [
    "sink_aperiodicity(DGH)"
   ]
  },
  {
   "cell_type": "code",
   "execution_count": 32,
   "id": "01825911",
   "metadata": {},
   "outputs": [
    {
     "name": "stdout",
     "output_type": "stream",
     "text": [
      "Initial opinions:     [0.26, 0.63, 0.16, 0.04, 0.31]\n",
      "convergence not reached in 10000 iterations\n",
      "Simulation result:    [0.16, 0.15, 0.25, 0.04, 0.31]\n"
     ]
    }
   ],
   "source": [
    "x0 = np.random.rand(len(DGH.nodes))\n",
    "# x0 = np.array([0,0,0,0.9,1])\n",
    "print('Initial opinions:     ', end='')\n",
    "aprint(x0)\n",
    "x = fdg(PH, x0)\n",
    "print('Simulation result:    ', end='')\n",
    "aprint(x)"
   ]
  }
 ],
 "metadata": {
  "kernelspec": {
   "display_name": "Python 3 (ipykernel)",
   "language": "python",
   "name": "python3"
  },
  "language_info": {
   "codemirror_mode": {
    "name": "ipython",
    "version": 3
   },
   "file_extension": ".py",
   "mimetype": "text/x-python",
   "name": "python",
   "nbconvert_exporter": "python",
   "pygments_lexer": "ipython3",
   "version": "3.8.11"
  }
 },
 "nbformat": 4,
 "nbformat_minor": 5
}
